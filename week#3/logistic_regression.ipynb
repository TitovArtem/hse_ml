{
 "cells": [
  {
   "cell_type": "code",
   "execution_count": 177,
   "metadata": {
    "collapsed": true
   },
   "outputs": [],
   "source": [
    "import pandas as pd\n",
    "import numpy as np\n",
    "from sklearn.metrics import roc_auc_score"
   ]
  },
  {
   "cell_type": "code",
   "execution_count": 2,
   "metadata": {
    "collapsed": true
   },
   "outputs": [],
   "source": [
    "df = pd.read_csv('data-logistic.csv', names=['y', 'x1', 'x2'])"
   ]
  },
  {
   "cell_type": "code",
   "execution_count": 109,
   "metadata": {
    "collapsed": false
   },
   "outputs": [],
   "source": [
    "x = df.drop('y', axis=1)\n",
    "y = df.drop(['x1', 'x2'], axis=1)"
   ]
  },
  {
   "cell_type": "code",
   "execution_count": 159,
   "metadata": {
    "collapsed": false
   },
   "outputs": [],
   "source": [
    "def deriv_func(x, y, w, col):\n",
    "    denom = 1 + np.e ** (-y * x.dot(w))\n",
    "    return np.sum(x[col] * y * (1 - 1.0 / denom)) / x.size"
   ]
  },
  {
   "cell_type": "code",
   "execution_count": 160,
   "metadata": {
    "collapsed": false
   },
   "outputs": [
    {
     "data": {
      "text/plain": [
       "0.17865633199370543"
      ]
     },
     "execution_count": 160,
     "metadata": {},
     "output_type": "execute_result"
    }
   ],
   "source": [
    "deriv_func(x, np.ravel(y), np.array([0, 0]), 'x1')"
   ]
  },
  {
   "cell_type": "code",
   "execution_count": 174,
   "metadata": {
    "collapsed": false
   },
   "outputs": [],
   "source": [
    "def gradient_desc(x, y, w, func=deriv_func ,step=0.1, \n",
    "                  max_iters=10000, eps=1e-5, l2=False, c=10):\n",
    "    it = 0\n",
    "    cur = w.copy()\n",
    "    while it < max_iters:\n",
    "        it += 1\n",
    "        cur[0] += step * func(x, y, w, x.columns[0])\n",
    "        cur[1] += step * func(x, y, w, x.columns[1])\n",
    "        if l2:\n",
    "            cur[0] -= step * c * w[0]\n",
    "            cur[1] -= step * c * w[1]\n",
    "        if np.linalg.norm(cur - w) < eps:\n",
    "            w = cur\n",
    "            return w\n",
    "        w = cur.copy()\n",
    "        "
   ]
  },
  {
   "cell_type": "code",
   "execution_count": 175,
   "metadata": {
    "collapsed": false
   },
   "outputs": [],
   "source": [
    "w = np.array([0.0, 0.0])\n",
    "ws = gradient_desc(x, np.ravel(y), w)\n",
    "wl2 = gradient_desc(x, np.ravel(y), w, l2=True)"
   ]
  },
  {
   "cell_type": "code",
   "execution_count": 176,
   "metadata": {
    "collapsed": false
   },
   "outputs": [
    {
     "data": {
      "text/plain": [
       "(array([ 0.28750254,  0.09226915]), array([ 0.01583043,  0.01404041]))"
      ]
     },
     "execution_count": 176,
     "metadata": {},
     "output_type": "execute_result"
    }
   ],
   "source": [
    "ws, wl2"
   ]
  },
  {
   "cell_type": "code",
   "execution_count": 178,
   "metadata": {
    "collapsed": false
   },
   "outputs": [],
   "source": [
    "s = ws * x\n",
    "axs = 1.0 / (1 + np.e ** (-s.x1 - s.x2))"
   ]
  },
  {
   "cell_type": "code",
   "execution_count": 181,
   "metadata": {
    "collapsed": false
   },
   "outputs": [],
   "source": [
    "s = wl2 * x\n",
    "axl2 = 1.0 / (1 + np.e ** (-s.x1 - s.x2))"
   ]
  },
  {
   "cell_type": "code",
   "execution_count": 183,
   "metadata": {
    "collapsed": false
   },
   "outputs": [],
   "source": [
    "s_score = roc_auc_score(np.ravel(y), axs)"
   ]
  },
  {
   "cell_type": "code",
   "execution_count": 185,
   "metadata": {
    "collapsed": false
   },
   "outputs": [],
   "source": [
    "l2_score = roc_auc_score(np.ravel(y), axl2)"
   ]
  },
  {
   "cell_type": "code",
   "execution_count": 186,
   "metadata": {
    "collapsed": false
   },
   "outputs": [
    {
     "data": {
      "text/plain": [
       "(0.92685714285714282, 0.93666666666666654)"
      ]
     },
     "execution_count": 186,
     "metadata": {},
     "output_type": "execute_result"
    }
   ],
   "source": [
    "s_score, l2_score"
   ]
  },
  {
   "cell_type": "code",
   "execution_count": null,
   "metadata": {
    "collapsed": true
   },
   "outputs": [],
   "source": []
  }
 ],
 "metadata": {
  "kernelspec": {
   "display_name": "Python 2",
   "language": "python",
   "name": "python2"
  },
  "language_info": {
   "codemirror_mode": {
    "name": "ipython",
    "version": 2
   },
   "file_extension": ".py",
   "mimetype": "text/x-python",
   "name": "python",
   "nbconvert_exporter": "python",
   "pygments_lexer": "ipython2",
   "version": "2.7.6"
  }
 },
 "nbformat": 4,
 "nbformat_minor": 0
}
