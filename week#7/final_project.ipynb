{
 "cells": [
  {
   "cell_type": "code",
   "execution_count": 1,
   "metadata": {
    "collapsed": true
   },
   "outputs": [],
   "source": [
    "import time\n",
    "import datetime\n",
    "import pandas as pd\n",
    "import numpy as np\n",
    "from sklearn.cross_validation import KFold, cross_val_score\n",
    "from sklearn.grid_search import GridSearchCV\n",
    "from sklearn.ensemble import GradientBoostingClassifier\n",
    "from sklearn.linear_model import LogisticRegression\n",
    "from sklearn.preprocessing import StandardScaler"
   ]
  },
  {
   "cell_type": "code",
   "execution_count": 2,
   "metadata": {
    "collapsed": false
   },
   "outputs": [],
   "source": [
    "df = pd.read_csv('features.csv', index_col='match_id')"
   ]
  },
  {
   "cell_type": "code",
   "execution_count": 3,
   "metadata": {
    "collapsed": false
   },
   "outputs": [
    {
     "data": {
      "text/html": [
       "<div>\n",
       "<table border=\"1\" class=\"dataframe\">\n",
       "  <thead>\n",
       "    <tr style=\"text-align: right;\">\n",
       "      <th></th>\n",
       "      <th>start_time</th>\n",
       "      <th>lobby_type</th>\n",
       "      <th>r1_hero</th>\n",
       "      <th>r1_level</th>\n",
       "      <th>r1_xp</th>\n",
       "      <th>r1_gold</th>\n",
       "      <th>r1_lh</th>\n",
       "      <th>r1_kills</th>\n",
       "      <th>r1_deaths</th>\n",
       "      <th>r1_items</th>\n",
       "      <th>...</th>\n",
       "      <th>dire_boots_count</th>\n",
       "      <th>dire_ward_observer_count</th>\n",
       "      <th>dire_ward_sentry_count</th>\n",
       "      <th>dire_first_ward_time</th>\n",
       "      <th>duration</th>\n",
       "      <th>radiant_win</th>\n",
       "      <th>tower_status_radiant</th>\n",
       "      <th>tower_status_dire</th>\n",
       "      <th>barracks_status_radiant</th>\n",
       "      <th>barracks_status_dire</th>\n",
       "    </tr>\n",
       "    <tr>\n",
       "      <th>match_id</th>\n",
       "      <th></th>\n",
       "      <th></th>\n",
       "      <th></th>\n",
       "      <th></th>\n",
       "      <th></th>\n",
       "      <th></th>\n",
       "      <th></th>\n",
       "      <th></th>\n",
       "      <th></th>\n",
       "      <th></th>\n",
       "      <th></th>\n",
       "      <th></th>\n",
       "      <th></th>\n",
       "      <th></th>\n",
       "      <th></th>\n",
       "      <th></th>\n",
       "      <th></th>\n",
       "      <th></th>\n",
       "      <th></th>\n",
       "      <th></th>\n",
       "      <th></th>\n",
       "    </tr>\n",
       "  </thead>\n",
       "  <tbody>\n",
       "    <tr>\n",
       "      <th>0</th>\n",
       "      <td>1430198770</td>\n",
       "      <td>7</td>\n",
       "      <td>11</td>\n",
       "      <td>5</td>\n",
       "      <td>2098</td>\n",
       "      <td>1489</td>\n",
       "      <td>20</td>\n",
       "      <td>0</td>\n",
       "      <td>0</td>\n",
       "      <td>7</td>\n",
       "      <td>...</td>\n",
       "      <td>4</td>\n",
       "      <td>2</td>\n",
       "      <td>2</td>\n",
       "      <td>-52</td>\n",
       "      <td>2874</td>\n",
       "      <td>1</td>\n",
       "      <td>1796</td>\n",
       "      <td>0</td>\n",
       "      <td>51</td>\n",
       "      <td>0</td>\n",
       "    </tr>\n",
       "    <tr>\n",
       "      <th>1</th>\n",
       "      <td>1430220345</td>\n",
       "      <td>0</td>\n",
       "      <td>42</td>\n",
       "      <td>4</td>\n",
       "      <td>1188</td>\n",
       "      <td>1033</td>\n",
       "      <td>9</td>\n",
       "      <td>0</td>\n",
       "      <td>1</td>\n",
       "      <td>12</td>\n",
       "      <td>...</td>\n",
       "      <td>4</td>\n",
       "      <td>3</td>\n",
       "      <td>1</td>\n",
       "      <td>-5</td>\n",
       "      <td>2463</td>\n",
       "      <td>1</td>\n",
       "      <td>1974</td>\n",
       "      <td>0</td>\n",
       "      <td>63</td>\n",
       "      <td>1</td>\n",
       "    </tr>\n",
       "    <tr>\n",
       "      <th>2</th>\n",
       "      <td>1430227081</td>\n",
       "      <td>7</td>\n",
       "      <td>33</td>\n",
       "      <td>4</td>\n",
       "      <td>1319</td>\n",
       "      <td>1270</td>\n",
       "      <td>22</td>\n",
       "      <td>0</td>\n",
       "      <td>0</td>\n",
       "      <td>12</td>\n",
       "      <td>...</td>\n",
       "      <td>4</td>\n",
       "      <td>3</td>\n",
       "      <td>1</td>\n",
       "      <td>13</td>\n",
       "      <td>2130</td>\n",
       "      <td>0</td>\n",
       "      <td>0</td>\n",
       "      <td>1830</td>\n",
       "      <td>0</td>\n",
       "      <td>63</td>\n",
       "    </tr>\n",
       "    <tr>\n",
       "      <th>3</th>\n",
       "      <td>1430263531</td>\n",
       "      <td>1</td>\n",
       "      <td>29</td>\n",
       "      <td>4</td>\n",
       "      <td>1779</td>\n",
       "      <td>1056</td>\n",
       "      <td>14</td>\n",
       "      <td>0</td>\n",
       "      <td>0</td>\n",
       "      <td>5</td>\n",
       "      <td>...</td>\n",
       "      <td>4</td>\n",
       "      <td>2</td>\n",
       "      <td>0</td>\n",
       "      <td>27</td>\n",
       "      <td>1459</td>\n",
       "      <td>0</td>\n",
       "      <td>1920</td>\n",
       "      <td>2047</td>\n",
       "      <td>50</td>\n",
       "      <td>63</td>\n",
       "    </tr>\n",
       "    <tr>\n",
       "      <th>4</th>\n",
       "      <td>1430282290</td>\n",
       "      <td>7</td>\n",
       "      <td>13</td>\n",
       "      <td>4</td>\n",
       "      <td>1431</td>\n",
       "      <td>1090</td>\n",
       "      <td>8</td>\n",
       "      <td>1</td>\n",
       "      <td>0</td>\n",
       "      <td>8</td>\n",
       "      <td>...</td>\n",
       "      <td>3</td>\n",
       "      <td>3</td>\n",
       "      <td>0</td>\n",
       "      <td>-16</td>\n",
       "      <td>2449</td>\n",
       "      <td>0</td>\n",
       "      <td>4</td>\n",
       "      <td>1974</td>\n",
       "      <td>3</td>\n",
       "      <td>63</td>\n",
       "    </tr>\n",
       "  </tbody>\n",
       "</table>\n",
       "<p>5 rows × 108 columns</p>\n",
       "</div>"
      ],
      "text/plain": [
       "          start_time  lobby_type  r1_hero  r1_level  r1_xp  r1_gold  r1_lh  \\\n",
       "match_id                                                                     \n",
       "0         1430198770           7       11         5   2098     1489     20   \n",
       "1         1430220345           0       42         4   1188     1033      9   \n",
       "2         1430227081           7       33         4   1319     1270     22   \n",
       "3         1430263531           1       29         4   1779     1056     14   \n",
       "4         1430282290           7       13         4   1431     1090      8   \n",
       "\n",
       "          r1_kills  r1_deaths  r1_items          ...           \\\n",
       "match_id                                         ...            \n",
       "0                0          0         7          ...            \n",
       "1                0          1        12          ...            \n",
       "2                0          0        12          ...            \n",
       "3                0          0         5          ...            \n",
       "4                1          0         8          ...            \n",
       "\n",
       "          dire_boots_count  dire_ward_observer_count  dire_ward_sentry_count  \\\n",
       "match_id                                                                       \n",
       "0                        4                         2                       2   \n",
       "1                        4                         3                       1   \n",
       "2                        4                         3                       1   \n",
       "3                        4                         2                       0   \n",
       "4                        3                         3                       0   \n",
       "\n",
       "          dire_first_ward_time  duration  radiant_win  tower_status_radiant  \\\n",
       "match_id                                                                      \n",
       "0                          -52      2874            1                  1796   \n",
       "1                           -5      2463            1                  1974   \n",
       "2                           13      2130            0                     0   \n",
       "3                           27      1459            0                  1920   \n",
       "4                          -16      2449            0                     4   \n",
       "\n",
       "          tower_status_dire  barracks_status_radiant  barracks_status_dire  \n",
       "match_id                                                                    \n",
       "0                         0                       51                     0  \n",
       "1                         0                       63                     1  \n",
       "2                      1830                        0                    63  \n",
       "3                      2047                       50                    63  \n",
       "4                      1974                        3                    63  \n",
       "\n",
       "[5 rows x 108 columns]"
      ]
     },
     "execution_count": 3,
     "metadata": {},
     "output_type": "execute_result"
    }
   ],
   "source": [
    "df.head()"
   ]
  },
  {
   "cell_type": "code",
   "execution_count": 4,
   "metadata": {
    "collapsed": false
   },
   "outputs": [
    {
     "data": {
      "text/plain": [
       "<matplotlib.axes.AxesSubplot at 0x7fa94bc97390>"
      ]
     },
     "execution_count": 4,
     "metadata": {},
     "output_type": "execute_result"
    },
    {
     "data": {
      "image/png": "[encoded data removed]",
      "text/plain": [
       "<matplotlib.figure.Figure at 0x7fa94bc80d90>"
      ]
     },
     "metadata": {},
     "output_type": "display_data"
    }
   ],
   "source": [
    "%matplotlib inline\n",
    "df.radiant_win.hist()"
   ]
  },
  {
   "cell_type": "code",
   "execution_count": 5,
   "metadata": {
    "collapsed": false
   },
   "outputs": [],
   "source": [
    "x_df = df.drop(\n",
    "    ['duration', 'radiant_win', 'tower_status_radiant',\n",
    "     'tower_status_dire', 'barracks_status_radiant', \n",
    "     'barracks_status_dire'], axis=1\n",
    ")"
   ]
  },
  {
   "cell_type": "code",
   "execution_count": 6,
   "metadata": {
    "collapsed": false
   },
   "outputs": [
    {
     "data": {
      "text/plain": [
       "start_time                     97230\n",
       "lobby_type                     97230\n",
       "r1_hero                        97230\n",
       "r1_level                       97230\n",
       "r1_xp                          97230\n",
       "r1_gold                        97230\n",
       "r1_lh                          97230\n",
       "r1_kills                       97230\n",
       "r1_deaths                      97230\n",
       "r1_items                       97230\n",
       "r2_hero                        97230\n",
       "r2_level                       97230\n",
       "r2_xp                          97230\n",
       "r2_gold                        97230\n",
       "r2_lh                          97230\n",
       "r2_kills                       97230\n",
       "r2_deaths                      97230\n",
       "r2_items                       97230\n",
       "r3_hero                        97230\n",
       "r3_level                       97230\n",
       "r3_xp                          97230\n",
       "r3_gold                        97230\n",
       "r3_lh                          97230\n",
       "r3_kills                       97230\n",
       "r3_deaths                      97230\n",
       "r3_items                       97230\n",
       "r4_hero                        97230\n",
       "r4_level                       97230\n",
       "r4_xp                          97230\n",
       "r4_gold                        97230\n",
       "                               ...  \n",
       "d4_deaths                      97230\n",
       "d4_items                       97230\n",
       "d5_hero                        97230\n",
       "d5_level                       97230\n",
       "d5_xp                          97230\n",
       "d5_gold                        97230\n",
       "d5_lh                          97230\n",
       "d5_kills                       97230\n",
       "d5_deaths                      97230\n",
       "d5_items                       97230\n",
       "first_blood_time               77677\n",
       "first_blood_team               77677\n",
       "first_blood_player1            77677\n",
       "first_blood_player2            53243\n",
       "radiant_bottle_time            81539\n",
       "radiant_courier_time           96538\n",
       "radiant_flying_courier_time    69751\n",
       "radiant_tpscroll_count         97230\n",
       "radiant_boots_count            97230\n",
       "radiant_ward_observer_count    97230\n",
       "radiant_ward_sentry_count      97230\n",
       "radiant_first_ward_time        95394\n",
       "dire_bottle_time               81087\n",
       "dire_courier_time              96554\n",
       "dire_flying_courier_time       71132\n",
       "dire_tpscroll_count            97230\n",
       "dire_boots_count               97230\n",
       "dire_ward_observer_count       97230\n",
       "dire_ward_sentry_count         97230\n",
       "dire_first_ward_time           95404\n",
       "dtype: int64"
      ]
     },
     "execution_count": 6,
     "metadata": {},
     "output_type": "execute_result"
    }
   ],
   "source": [
    "x_df.count()"
   ]
  },
  {
   "cell_type": "code",
   "execution_count": 7,
   "metadata": {
    "collapsed": true
   },
   "outputs": [],
   "source": [
    "full_filled_df = x_df.dropna(axis=1)"
   ]
  },
  {
   "cell_type": "code",
   "execution_count": 8,
   "metadata": {
    "collapsed": false
   },
   "outputs": [
    {
     "name": "stdout",
     "output_type": "stream",
     "text": [
      "(97230, 90) (97230, 102)\n"
     ]
    }
   ],
   "source": [
    "print full_filled_df.shape, x_df.shape"
   ]
  },
  {
   "cell_type": "code",
   "execution_count": 9,
   "metadata": {
    "collapsed": false
   },
   "outputs": [
    {
     "name": "stdout",
     "output_type": "stream",
     "text": [
      "first_blood_time\n",
      "first_blood_team\n",
      "first_blood_player1\n",
      "first_blood_player2\n",
      "radiant_bottle_time\n",
      "radiant_courier_time\n",
      "radiant_flying_courier_time\n",
      "radiant_first_ward_time\n",
      "dire_bottle_time\n",
      "dire_courier_time\n",
      "dire_flying_courier_time\n",
      "dire_first_ward_time\n"
     ]
    }
   ],
   "source": [
    "for item in x_df.drop(full_filled_df.columns, axis=1).columns:\n",
    "    print item"
   ]
  },
  {
   "cell_type": "code",
   "execution_count": 10,
   "metadata": {
    "collapsed": false
   },
   "outputs": [],
   "source": [
    "x = x_df.fillna(0)"
   ]
  },
  {
   "cell_type": "code",
   "execution_count": 11,
   "metadata": {
    "collapsed": false
   },
   "outputs": [],
   "source": [
    "y = df.radiant_win"
   ]
  },
  {
   "cell_type": "code",
   "execution_count": 12,
   "metadata": {
    "collapsed": false
   },
   "outputs": [],
   "source": [
    "cv = KFold(y.size, n_folds=5, shuffle=True)"
   ]
  },
  {
   "cell_type": "code",
   "execution_count": 13,
   "metadata": {
    "collapsed": false
   },
   "outputs": [],
   "source": [
    "n_estimators = np.arange(10, 45, 5)"
   ]
  },
  {
   "cell_type": "code",
   "execution_count": 14,
   "metadata": {
    "collapsed": false
   },
   "outputs": [
    {
     "name": "stdout",
     "output_type": "stream",
     "text": [
      "Number of estimators:  10\n",
      "Time elapsed:  0:00:43.940846\n",
      "All scores:  [ 0.67197828  0.67228042  0.65585988  0.6602592   0.66696992]\n",
      "Mean scores:  0.665469540535\n",
      "**************************************************\n",
      "Number of estimators:  15\n",
      "Time elapsed:  0:01:06.759562\n",
      "All scores:  [ 0.68410709  0.67985253  0.6675193   0.67156577  0.67795909]\n",
      "Mean scores:  0.676200754447\n",
      "**************************************************\n",
      "Number of estimators:  20\n",
      "Time elapsed:  0:01:28.757749\n",
      "All scores:  [ 0.689428    0.6852541   0.67478339  0.6792457   0.68442792]\n",
      "Mean scores:  0.682627821888\n",
      "**************************************************\n",
      "Number of estimators:  25\n",
      "Time elapsed:  0:01:51.371063\n",
      "All scores:  [ 0.69373428  0.68858107  0.67877893  0.68405291  0.68841174]\n",
      "Mean scores:  0.686711784716\n",
      "**************************************************\n",
      "Number of estimators:  30\n",
      "Time elapsed:  0:02:13.189823\n",
      "All scores:  [ 0.69817102  0.69068864  0.68268548  0.68752422  0.69104241]\n",
      "Mean scores:  0.690022354698\n",
      "**************************************************\n",
      "Number of estimators:  35\n",
      "Time elapsed:  0:02:40.225063\n",
      "All scores:  [ 0.70077713  0.69282373  0.68508201  0.6907767   0.69302521]\n",
      "Mean scores:  0.69249695614\n",
      "**************************************************\n",
      "Number of estimators:  40\n",
      "Time elapsed:  0:02:58.412784\n",
      "All scores:  [ 0.70257872  0.69474062  0.68664503  0.69326183  0.69532923]\n",
      "Mean scores:  0.694511087512\n",
      "**************************************************\n"
     ]
    }
   ],
   "source": [
    "for n in n_estimators:\n",
    "    print 'Number of estimators: ', n\n",
    "    clf = GradientBoostingClassifier(n_estimators=n)\n",
    "    start_time = datetime.datetime.now()\n",
    "    scores = cross_val_score(clf, x.values, y, cv=cv, scoring='roc_auc')\n",
    "    print 'Time elapsed: ', datetime.datetime.now() - start_time\n",
    "    print 'All scores: ', scores\n",
    "    print 'Mean scores: ', scores.mean()\n",
    "    print '*' * 50"
   ]
  },
  {
   "cell_type": "markdown",
   "metadata": {},
   "source": [
    "<h1>Отчет: Часть 1</h1>\n",
    "<ol>\n",
    "    <li><strong>Список столбцов с пропусками:</strong><br>\n",
    "        first_blood_time<br>\n",
    "        first_blood_team<br>\n",
    "        first_blood_player1<br>\n",
    "        first_blood_player2<br>\n",
    "        radiant_bottle_time<br>\n",
    "        radiant_courier_time<br>\n",
    "        radiant_flying_courier_time<br>\n",
    "        radiant_first_ward_time<br>\n",
    "        dire_bottle_time<br>\n",
    "        dire_courier_time<br>\n",
    "        dire_flying_courier_time<br>\n",
    "        dire_first_ward_time<br>\n",
    "        <p>Причина пропусков в данных столбцах очень проста: некоторые события попросту могут не наступить в первые 5 минут игры. Например, пропуски в столбцах <strong>first_blood_time, first_blood_team, first_blood_player1, first_blood_player2</strong> могут быть из-за того, что игроки не вступали в бой в первые 5 минут. Столбец <strong>radiant_bottle_time (dire_bottle_time)</strong> может содержать пропуски по схожей причине - игрок мог не приобрести предмет \"bottle\" за первые 5 минут.</p>\n",
    "    </li><br>\n",
    "    <li>Имя столбца, содержащего целевую переменную:<strong> radiant_win</strong></li><br>\n",
    "    <li>Кросс-валидация для градиентного бустинга с 30 деревьями была пройдена за: <strong>2 минуты 13 секунд</strong><br>\n",
    "    Среднее занчение качества по метрике AUC-ROC для 30 деревьев: <strong>0.690022354698</strong></li><br>\n",
    "    <li><p>Как видно из таблицы выше, при увеличении числа деревьев после 30 с шагом 5, качество все еще растет, но очень слабо, с точность в тысячных долях. Также стоит отметить, что при увелечении числа деревьев на 10 (с 30 до 40) время прохождения кросс-валидации увеличилось почти на минуту, из чего можно сделать вывод, что дальнейшее увеличение количества деревьев скорее потеря, чем выгода. Можно попытаться ускорить процесс обучения путем уменьшения глубины деревьев или понижением размерности выборки.<p></li>\n",
    "</ol>\n",
    "____________________________________________________________________________________________"
   ]
  },
  {
   "cell_type": "code",
   "execution_count": 13,
   "metadata": {
    "collapsed": true
   },
   "outputs": [],
   "source": [
    "c_grid = np.power(10.0, np.arange(-5, 4))"
   ]
  },
  {
   "cell_type": "code",
   "execution_count": 14,
   "metadata": {
    "collapsed": false,
    "scrolled": false
   },
   "outputs": [],
   "source": [
    "def log_reg_test(x, y, cv, c_grid):\n",
    "    for c in c_grid:\n",
    "        print 'C: ', c\n",
    "        clf = LogisticRegression(C=c, penalty='l2')\n",
    "        start_time = datetime.datetime.now()\n",
    "        scores = cross_val_score(clf, x, y, cv=cv, scoring='roc_auc')\n",
    "        print 'Time elapsed: ', datetime.datetime.now() - start_time\n",
    "        print 'All scores: ', scores\n",
    "        print 'Mean scores: ', scores.mean()\n",
    "        print '*' * 50"
   ]
  },
  {
   "cell_type": "code",
   "execution_count": 15,
   "metadata": {
    "collapsed": false
   },
   "outputs": [
    {
     "name": "stdout",
     "output_type": "stream",
     "text": [
      "C:  1e-05\n",
      "Time elapsed:  0:00:01.459239\n",
      "All scores:  [ 0.51239757  0.51045283  0.51764959  0.5100031   0.51692153]\n",
      "Mean scores:  0.513484924229\n",
      "**************************************************\n",
      "C:  0.0001\n",
      "Time elapsed:  0:00:01.406385\n",
      "All scores:  [ 0.51239757  0.51045283  0.51764959  0.5100031   0.51692153]\n",
      "Mean scores:  0.513484924229\n",
      "**************************************************\n",
      "C:  0.001\n",
      "Time elapsed:  0:00:01.402107\n",
      "All scores:  [ 0.51239757  0.51045283  0.51764959  0.5100031   0.51692153]\n",
      "Mean scores:  0.513484924229\n",
      "**************************************************\n",
      "C:  0.01\n",
      "Time elapsed:  0:00:01.410826\n",
      "All scores:  [ 0.51239757  0.51045283  0.51764959  0.5100031   0.51692153]\n",
      "Mean scores:  0.513484924229\n",
      "**************************************************\n",
      "C:  0.1\n",
      "Time elapsed:  0:00:01.405925\n",
      "All scores:  [ 0.51239757  0.51045283  0.51764959  0.5100031   0.51692153]\n",
      "Mean scores:  0.513484924229\n",
      "**************************************************\n",
      "C:  1.0\n",
      "Time elapsed:  0:00:01.400659\n",
      "All scores:  [ 0.51239757  0.51045283  0.51764959  0.5100031   0.51692153]\n",
      "Mean scores:  0.513484924229\n",
      "**************************************************\n",
      "C:  10.0\n",
      "Time elapsed:  0:00:01.414185\n",
      "All scores:  [ 0.51239757  0.51045283  0.51764959  0.5100031   0.51692153]\n",
      "Mean scores:  0.513484924229\n",
      "**************************************************\n",
      "C:  100.0\n",
      "Time elapsed:  0:00:01.411287\n",
      "All scores:  [ 0.51239757  0.51045283  0.51764959  0.5100031   0.51692153]\n",
      "Mean scores:  0.513484924229\n",
      "**************************************************\n",
      "C:  1000.0\n",
      "Time elapsed:  0:00:01.404997\n",
      "All scores:  [ 0.51239757  0.51045283  0.51764959  0.5100031   0.51692153]\n",
      "Mean scores:  0.513484924229\n",
      "**************************************************\n"
     ]
    }
   ],
   "source": [
    "log_reg_test(x.values, y, cv, c_grid)"
   ]
  },
  {
   "cell_type": "code",
   "execution_count": 16,
   "metadata": {
    "collapsed": false
   },
   "outputs": [],
   "source": [
    "sc_train_x = StandardScaler().fit_transform(x.values)"
   ]
  },
  {
   "cell_type": "code",
   "execution_count": 17,
   "metadata": {
    "collapsed": false
   },
   "outputs": [
    {
     "name": "stdout",
     "output_type": "stream",
     "text": [
      "C:  1e-05\n",
      "Time elapsed:  0:00:02.326027\n",
      "All scores:  [ 0.69330086  0.6952149   0.69798364  0.70097561  0.6880735 ]\n",
      "Mean scores:  0.69510970273\n",
      "**************************************************\n",
      "C:  0.0001\n",
      "Time elapsed:  0:00:03.796773\n",
      "All scores:  [ 0.71215229  0.7112531   0.7137549   0.71570281  0.70294799]\n",
      "Mean scores:  0.711162218742\n",
      "**************************************************\n",
      "C:  0.001\n",
      "Time elapsed:  0:00:06.658809\n",
      "All scores:  [ 0.71968567  0.71645561  0.71805504  0.71902141  0.70722177]\n",
      "Mean scores:  0.716087898941\n",
      "**************************************************\n",
      "C:  0.01\n",
      "Time elapsed:  0:00:08.787012\n",
      "All scores:  [ 0.72042979  0.71666788  0.7180841   0.71883427  0.70737118]\n",
      "Mean scores:  0.71627744348\n",
      "**************************************************\n",
      "C:  0.1\n",
      "Time elapsed:  0:00:09.143296\n",
      "All scores:  [ 0.72046094  0.71664045  0.71803357  0.71873999  0.70736631]\n",
      "Mean scores:  0.716248252491\n",
      "**************************************************\n",
      "C:  1.0\n",
      "Time elapsed:  0:00:09.185365\n",
      "All scores:  [ 0.72046387  0.71664093  0.71802686  0.71873104  0.70736667]\n",
      "Mean scores:  0.716245872977\n",
      "**************************************************\n",
      "C:  10.0\n",
      "Time elapsed:  0:00:09.258866\n",
      "All scores:  [ 0.72046508  0.71664013  0.71802655  0.71873024  0.70736661]\n",
      "Mean scores:  0.716245719609\n",
      "**************************************************\n",
      "C:  100.0\n",
      "Time elapsed:  0:00:09.202181\n",
      "All scores:  [ 0.72046538  0.71664002  0.71802637  0.71873028  0.70736681]\n",
      "Mean scores:  0.716245772636\n",
      "**************************************************\n",
      "C:  1000.0\n",
      "Time elapsed:  0:00:09.189549\n",
      "All scores:  [ 0.72046535  0.71664016  0.71802632  0.71873025  0.70736681]\n",
      "Mean scores:  0.716245776846\n",
      "**************************************************\n"
     ]
    }
   ],
   "source": [
    "log_reg_test(sc_train_x, y, cv, c_grid)"
   ]
  },
  {
   "cell_type": "code",
   "execution_count": 18,
   "metadata": {
    "collapsed": false
   },
   "outputs": [],
   "source": [
    "categorial_cols = [\n",
    "    'lobby_type', 'r1_hero', 'r2_hero', 'r3_hero',\n",
    "    'r4_hero', 'r5_hero', 'd1_hero', 'd2_hero', \n",
    "    'd3_hero', 'd4_hero', 'd5_hero'\n",
    "]\n",
    "x1 = x.drop(categorial_cols, axis=1)\n",
    "x1 = StandardScaler().fit_transform(x1)"
   ]
  },
  {
   "cell_type": "code",
   "execution_count": 19,
   "metadata": {
    "collapsed": false,
    "scrolled": true
   },
   "outputs": [
    {
     "name": "stdout",
     "output_type": "stream",
     "text": [
      "C:  1e-05\n",
      "Time elapsed:  0:00:02.111344\n",
      "All scores:  [ 0.69323134  0.69531406  0.69790194  0.70090866  0.68799322]\n",
      "Mean scores:  0.695069843086\n",
      "**************************************************\n",
      "C:  0.0001\n",
      "Time elapsed:  0:00:03.343812\n",
      "All scores:  [ 0.71211895  0.71143772  0.7137066   0.71570719  0.70295576]\n",
      "Mean scores:  0.711185244306\n",
      "**************************************************\n",
      "C:  0.001\n",
      "Time elapsed:  0:00:06.158855\n",
      "All scores:  [ 0.71971931  0.71660398  0.7180077   0.71909958  0.70732323]\n",
      "Mean scores:  0.716150759596\n",
      "**************************************************\n",
      "C:  0.01\n",
      "Time elapsed:  0:00:07.978690\n",
      "All scores:  [ 0.72044431  0.71679511  0.71801316  0.71890702  0.70749412]\n",
      "Mean scores:  0.716330742673\n",
      "**************************************************\n",
      "C:  0.1\n",
      "Time elapsed:  0:00:08.424646\n",
      "All scores:  [ 0.72048144  0.71677931  0.7179686   0.71883144  0.70748773]\n",
      "Mean scores:  0.716309703884\n",
      "**************************************************\n",
      "C:  1.0\n",
      "Time elapsed:  0:00:08.279565\n",
      "All scores:  [ 0.72048327  0.71677658  0.71796169  0.71882309  0.70748795]\n",
      "Mean scores:  0.716306514419\n",
      "**************************************************\n",
      "C:  10.0\n",
      "Time elapsed:  0:00:08.280533\n",
      "All scores:  [ 0.72048289  0.71677655  0.71796028  0.71882218  0.70748789]\n",
      "Mean scores:  0.716305956086\n",
      "**************************************************\n",
      "C:  100.0\n",
      "Time elapsed:  0:00:08.279361\n",
      "All scores:  [ 0.72048305  0.71677658  0.71795988  0.71882213  0.70748772]\n",
      "Mean scores:  0.716305870322\n",
      "**************************************************\n",
      "C:  1000.0\n",
      "Time elapsed:  0:00:08.293158\n",
      "All scores:  [ 0.72048298  0.71677649  0.71795985  0.71882213  0.70748775]\n",
      "Mean scores:  0.716305841724\n",
      "**************************************************\n"
     ]
    }
   ],
   "source": [
    "log_reg_test(x1, y, cv, c_grid)"
   ]
  },
  {
   "cell_type": "code",
   "execution_count": 20,
   "metadata": {
    "collapsed": false
   },
   "outputs": [],
   "source": [
    "heros = np.array([])\n",
    "for i in range(1, 6, 1):\n",
    "    d_key, r_key = 'd%d_hero' % i, 'r%d_hero' % i\n",
    "    heros = np.hstack([heros, x[d_key], x[r_key]])"
   ]
  },
  {
   "cell_type": "code",
   "execution_count": 21,
   "metadata": {
    "collapsed": false
   },
   "outputs": [
    {
     "data": {
      "text/plain": [
       "True"
      ]
     },
     "execution_count": 21,
     "metadata": {},
     "output_type": "execute_result"
    }
   ],
   "source": [
    "x.shape[0] * 10 == heros.size"
   ]
  },
  {
   "cell_type": "code",
   "execution_count": 22,
   "metadata": {
    "collapsed": false
   },
   "outputs": [
    {
     "name": "stdout",
     "output_type": "stream",
     "text": [
      "108 112.0\n"
     ]
    }
   ],
   "source": [
    "print pd.unique(heros).size, pd.unique(heros).max()"
   ]
  },
  {
   "cell_type": "code",
   "execution_count": 23,
   "metadata": {
    "collapsed": false
   },
   "outputs": [],
   "source": [
    "n_heros = int(pd.unique(heros).max()) #pd.unique(heros).size"
   ]
  },
  {
   "cell_type": "code",
   "execution_count": 24,
   "metadata": {
    "collapsed": false
   },
   "outputs": [],
   "source": [
    "def create_heros_bag(x, n_heros):\n",
    "    x_pick = np.zeros((x.shape[0], n_heros))\n",
    "\n",
    "    for i, match_id in enumerate(x.index):\n",
    "        for p in range(1, 6, 1):\n",
    "            x_pick[i, x.ix[match_id, 'r%d_hero' % (p)]-1] = 1\n",
    "            x_pick[i, x.ix[match_id, 'd%d_hero' % (p)]-1] = -1\n",
    "    return x_pick"
   ]
  },
  {
   "cell_type": "code",
   "execution_count": 25,
   "metadata": {
    "collapsed": false
   },
   "outputs": [],
   "source": [
    "x_pick = create_heros_bag(x, n_heros)"
   ]
  },
  {
   "cell_type": "code",
   "execution_count": 26,
   "metadata": {
    "collapsed": false
   },
   "outputs": [
    {
     "data": {
      "text/html": [
       "<div>\n",
       "<table border=\"1\" class=\"dataframe\">\n",
       "  <thead>\n",
       "    <tr style=\"text-align: right;\">\n",
       "      <th></th>\n",
       "      <th>0</th>\n",
       "      <th>1</th>\n",
       "      <th>2</th>\n",
       "      <th>3</th>\n",
       "      <th>4</th>\n",
       "      <th>5</th>\n",
       "      <th>6</th>\n",
       "      <th>7</th>\n",
       "      <th>8</th>\n",
       "      <th>9</th>\n",
       "      <th>...</th>\n",
       "      <th>102</th>\n",
       "      <th>103</th>\n",
       "      <th>104</th>\n",
       "      <th>105</th>\n",
       "      <th>106</th>\n",
       "      <th>107</th>\n",
       "      <th>108</th>\n",
       "      <th>109</th>\n",
       "      <th>110</th>\n",
       "      <th>111</th>\n",
       "    </tr>\n",
       "  </thead>\n",
       "  <tbody>\n",
       "    <tr>\n",
       "      <th>0</th>\n",
       "      <td>0</td>\n",
       "      <td>0</td>\n",
       "      <td>0</td>\n",
       "      <td>-1</td>\n",
       "      <td>0</td>\n",
       "      <td>0</td>\n",
       "      <td>0</td>\n",
       "      <td>0</td>\n",
       "      <td>0</td>\n",
       "      <td>0</td>\n",
       "      <td>...</td>\n",
       "      <td>0</td>\n",
       "      <td>0</td>\n",
       "      <td>1</td>\n",
       "      <td>0</td>\n",
       "      <td>0</td>\n",
       "      <td>0</td>\n",
       "      <td>0</td>\n",
       "      <td>0</td>\n",
       "      <td>0</td>\n",
       "      <td>0</td>\n",
       "    </tr>\n",
       "    <tr>\n",
       "      <th>1</th>\n",
       "      <td>0</td>\n",
       "      <td>0</td>\n",
       "      <td>0</td>\n",
       "      <td>0</td>\n",
       "      <td>0</td>\n",
       "      <td>0</td>\n",
       "      <td>-1</td>\n",
       "      <td>0</td>\n",
       "      <td>0</td>\n",
       "      <td>0</td>\n",
       "      <td>...</td>\n",
       "      <td>0</td>\n",
       "      <td>0</td>\n",
       "      <td>0</td>\n",
       "      <td>0</td>\n",
       "      <td>0</td>\n",
       "      <td>0</td>\n",
       "      <td>0</td>\n",
       "      <td>0</td>\n",
       "      <td>0</td>\n",
       "      <td>0</td>\n",
       "    </tr>\n",
       "    <tr>\n",
       "      <th>2</th>\n",
       "      <td>0</td>\n",
       "      <td>0</td>\n",
       "      <td>0</td>\n",
       "      <td>1</td>\n",
       "      <td>0</td>\n",
       "      <td>0</td>\n",
       "      <td>0</td>\n",
       "      <td>0</td>\n",
       "      <td>0</td>\n",
       "      <td>0</td>\n",
       "      <td>...</td>\n",
       "      <td>0</td>\n",
       "      <td>0</td>\n",
       "      <td>0</td>\n",
       "      <td>0</td>\n",
       "      <td>0</td>\n",
       "      <td>0</td>\n",
       "      <td>0</td>\n",
       "      <td>0</td>\n",
       "      <td>0</td>\n",
       "      <td>0</td>\n",
       "    </tr>\n",
       "    <tr>\n",
       "      <th>3</th>\n",
       "      <td>0</td>\n",
       "      <td>0</td>\n",
       "      <td>0</td>\n",
       "      <td>0</td>\n",
       "      <td>0</td>\n",
       "      <td>0</td>\n",
       "      <td>0</td>\n",
       "      <td>0</td>\n",
       "      <td>0</td>\n",
       "      <td>0</td>\n",
       "      <td>...</td>\n",
       "      <td>0</td>\n",
       "      <td>0</td>\n",
       "      <td>0</td>\n",
       "      <td>0</td>\n",
       "      <td>0</td>\n",
       "      <td>0</td>\n",
       "      <td>0</td>\n",
       "      <td>0</td>\n",
       "      <td>0</td>\n",
       "      <td>0</td>\n",
       "    </tr>\n",
       "    <tr>\n",
       "      <th>4</th>\n",
       "      <td>0</td>\n",
       "      <td>0</td>\n",
       "      <td>0</td>\n",
       "      <td>0</td>\n",
       "      <td>0</td>\n",
       "      <td>0</td>\n",
       "      <td>0</td>\n",
       "      <td>-1</td>\n",
       "      <td>0</td>\n",
       "      <td>0</td>\n",
       "      <td>...</td>\n",
       "      <td>0</td>\n",
       "      <td>0</td>\n",
       "      <td>0</td>\n",
       "      <td>0</td>\n",
       "      <td>0</td>\n",
       "      <td>0</td>\n",
       "      <td>0</td>\n",
       "      <td>0</td>\n",
       "      <td>0</td>\n",
       "      <td>0</td>\n",
       "    </tr>\n",
       "  </tbody>\n",
       "</table>\n",
       "<p>5 rows × 112 columns</p>\n",
       "</div>"
      ],
      "text/plain": [
       "   0    1    2    3    4    5    6    7    8    9   ...   102  103  104  105  \\\n",
       "0    0    0    0   -1    0    0    0    0    0    0 ...     0    0    1    0   \n",
       "1    0    0    0    0    0    0   -1    0    0    0 ...     0    0    0    0   \n",
       "2    0    0    0    1    0    0    0    0    0    0 ...     0    0    0    0   \n",
       "3    0    0    0    0    0    0    0    0    0    0 ...     0    0    0    0   \n",
       "4    0    0    0    0    0    0    0   -1    0    0 ...     0    0    0    0   \n",
       "\n",
       "   106  107  108  109  110  111  \n",
       "0    0    0    0    0    0    0  \n",
       "1    0    0    0    0    0    0  \n",
       "2    0    0    0    0    0    0  \n",
       "3    0    0    0    0    0    0  \n",
       "4    0    0    0    0    0    0  \n",
       "\n",
       "[5 rows x 112 columns]"
      ]
     },
     "execution_count": 26,
     "metadata": {},
     "output_type": "execute_result"
    }
   ],
   "source": [
    "pd.DataFrame(x_pick).head()"
   ]
  },
  {
   "cell_type": "code",
   "execution_count": 27,
   "metadata": {
    "collapsed": false,
    "scrolled": true
   },
   "outputs": [
    {
     "name": "stdout",
     "output_type": "stream",
     "text": [
      "C:  1e-05\n",
      "Time elapsed:  0:00:02.291993\n",
      "All scores:  [ 0.69730716  0.6992864   0.70203528  0.70515905  0.69206717]\n",
      "Mean scores:  0.69917101369\n",
      "**************************************************\n",
      "C:  0.0001\n",
      "Time elapsed:  0:00:03.584851\n",
      "All scores:  [ 0.72584884  0.72470831  0.7274262   0.72984528  0.71672154]\n",
      "Mean scores:  0.724910035169\n",
      "**************************************************\n",
      "C:  0.001\n",
      "Time elapsed:  0:00:07.464938\n",
      "All scores:  [ 0.7491759   0.74499811  0.74807369  0.7496406   0.73882734]\n",
      "Mean scores:  0.746143128976\n",
      "**************************************************\n",
      "C:  0.01\n",
      "Time elapsed:  0:00:12.606902\n",
      "All scores:  [ 0.75481907  0.74958838  0.75367764  0.75459626  0.74540759]\n",
      "Mean scores:  0.751617785038\n",
      "**************************************************\n",
      "C:  0.1\n",
      "Time elapsed:  0:00:17.208335\n",
      "All scores:  [ 0.75515096  0.74957183  0.75401275  0.75468692  0.74581484]\n",
      "Mean scores:  0.751847459047\n",
      "**************************************************\n",
      "C:  1.0\n",
      "Time elapsed:  0:00:18.216068\n",
      "All scores:  [ 0.75515309  0.74953033  0.7540149   0.75465263  0.74582683]\n",
      "Mean scores:  0.751835553787\n",
      "**************************************************\n",
      "C:  10.0\n",
      "Time elapsed:  0:00:18.685560\n",
      "All scores:  [ 0.75515321  0.74952628  0.75401431  0.75464667  0.74582626]\n",
      "Mean scores:  0.751833345213\n",
      "**************************************************\n",
      "C:  100.0\n",
      "Time elapsed:  0:00:18.049896\n",
      "All scores:  [ 0.75515325  0.74952555  0.754015    0.75464602  0.74582685]\n",
      "Mean scores:  0.751833332488\n",
      "**************************************************\n",
      "C:  1000.0\n",
      "Time elapsed:  0:00:18.268346\n",
      "All scores:  [ 0.75515325  0.74952561  0.75401513  0.75464587  0.74582699]\n",
      "Mean scores:  0.751833369526\n",
      "**************************************************\n"
     ]
    }
   ],
   "source": [
    "log_reg_test(np.hstack([x_pick, x1]), y, cv, c_grid)"
   ]
  },
  {
   "cell_type": "code",
   "execution_count": 32,
   "metadata": {
    "collapsed": false,
    "scrolled": true
   },
   "outputs": [
    {
     "name": "stdout",
     "output_type": "stream",
     "text": [
      "C:  0.1\n",
      "Time elapsed:  0:00:16.991247\n",
      "All scores:  [ 0.75515096  0.74957183  0.75401275  0.75468692  0.74581484]\n",
      "Mean scores:  0.751847459047\n",
      "**************************************************\n",
      "C:  0.11\n",
      "Time elapsed:  0:00:17.030787\n",
      "All scores:  [ 0.75515498  0.74956813  0.75401325  0.75468382  0.74581737]\n",
      "Mean scores:  0.751847510561\n",
      "**************************************************\n",
      "C:  0.12\n",
      "Time elapsed:  0:00:17.142202\n",
      "All scores:  [ 0.75515494  0.74956567  0.7540134   0.75468165  0.74581979]\n",
      "Mean scores:  0.751847088968\n",
      "**************************************************\n",
      "C:  0.13\n",
      "Time elapsed:  0:00:17.213987\n",
      "All scores:  [ 0.75515642  0.74956325  0.75401415  0.75468155  0.7458201 ]\n",
      "Mean scores:  0.751847094794\n",
      "**************************************************\n",
      "C:  0.14\n",
      "Time elapsed:  0:00:17.165917\n",
      "All scores:  [ 0.75515728  0.74955943  0.75401431  0.75467904  0.74582002]\n",
      "Mean scores:  0.751846016871\n",
      "**************************************************\n"
     ]
    }
   ],
   "source": [
    "log_reg_test(np.hstack([x_pick, x1]), y, cv, np.arange(0.1, 0.15, 0.01))"
   ]
  },
  {
   "cell_type": "code",
   "execution_count": 33,
   "metadata": {
    "collapsed": true
   },
   "outputs": [],
   "source": [
    "best_c = 0.11"
   ]
  },
  {
   "cell_type": "code",
   "execution_count": 71,
   "metadata": {
    "collapsed": false
   },
   "outputs": [],
   "source": [
    "test_df = pd.read_csv('features_test.csv', index_col='match_id')"
   ]
  },
  {
   "cell_type": "code",
   "execution_count": 72,
   "metadata": {
    "collapsed": false
   },
   "outputs": [
    {
     "data": {
      "text/html": [
       "<div>\n",
       "<table border=\"1\" class=\"dataframe\">\n",
       "  <thead>\n",
       "    <tr style=\"text-align: right;\">\n",
       "      <th></th>\n",
       "      <th>start_time</th>\n",
       "      <th>lobby_type</th>\n",
       "      <th>r1_hero</th>\n",
       "      <th>r1_level</th>\n",
       "      <th>r1_xp</th>\n",
       "      <th>r1_gold</th>\n",
       "      <th>r1_lh</th>\n",
       "      <th>r1_kills</th>\n",
       "      <th>r1_deaths</th>\n",
       "      <th>r1_items</th>\n",
       "      <th>...</th>\n",
       "      <th>radiant_ward_sentry_count</th>\n",
       "      <th>radiant_first_ward_time</th>\n",
       "      <th>dire_bottle_time</th>\n",
       "      <th>dire_courier_time</th>\n",
       "      <th>dire_flying_courier_time</th>\n",
       "      <th>dire_tpscroll_count</th>\n",
       "      <th>dire_boots_count</th>\n",
       "      <th>dire_ward_observer_count</th>\n",
       "      <th>dire_ward_sentry_count</th>\n",
       "      <th>dire_first_ward_time</th>\n",
       "    </tr>\n",
       "    <tr>\n",
       "      <th>match_id</th>\n",
       "      <th></th>\n",
       "      <th></th>\n",
       "      <th></th>\n",
       "      <th></th>\n",
       "      <th></th>\n",
       "      <th></th>\n",
       "      <th></th>\n",
       "      <th></th>\n",
       "      <th></th>\n",
       "      <th></th>\n",
       "      <th></th>\n",
       "      <th></th>\n",
       "      <th></th>\n",
       "      <th></th>\n",
       "      <th></th>\n",
       "      <th></th>\n",
       "      <th></th>\n",
       "      <th></th>\n",
       "      <th></th>\n",
       "      <th></th>\n",
       "      <th></th>\n",
       "    </tr>\n",
       "  </thead>\n",
       "  <tbody>\n",
       "    <tr>\n",
       "      <th>6</th>\n",
       "      <td>1430287923</td>\n",
       "      <td>0</td>\n",
       "      <td>93</td>\n",
       "      <td>4</td>\n",
       "      <td>1103</td>\n",
       "      <td>1089</td>\n",
       "      <td>8</td>\n",
       "      <td>0</td>\n",
       "      <td>1</td>\n",
       "      <td>9</td>\n",
       "      <td>...</td>\n",
       "      <td>0</td>\n",
       "      <td>12</td>\n",
       "      <td>247</td>\n",
       "      <td>-86</td>\n",
       "      <td>272</td>\n",
       "      <td>3</td>\n",
       "      <td>4</td>\n",
       "      <td>2</td>\n",
       "      <td>0</td>\n",
       "      <td>118</td>\n",
       "    </tr>\n",
       "    <tr>\n",
       "      <th>7</th>\n",
       "      <td>1430293357</td>\n",
       "      <td>1</td>\n",
       "      <td>20</td>\n",
       "      <td>2</td>\n",
       "      <td>556</td>\n",
       "      <td>570</td>\n",
       "      <td>1</td>\n",
       "      <td>0</td>\n",
       "      <td>0</td>\n",
       "      <td>9</td>\n",
       "      <td>...</td>\n",
       "      <td>2</td>\n",
       "      <td>-29</td>\n",
       "      <td>168</td>\n",
       "      <td>-54</td>\n",
       "      <td>NaN</td>\n",
       "      <td>3</td>\n",
       "      <td>2</td>\n",
       "      <td>2</td>\n",
       "      <td>1</td>\n",
       "      <td>16</td>\n",
       "    </tr>\n",
       "    <tr>\n",
       "      <th>10</th>\n",
       "      <td>1430301774</td>\n",
       "      <td>1</td>\n",
       "      <td>112</td>\n",
       "      <td>2</td>\n",
       "      <td>751</td>\n",
       "      <td>808</td>\n",
       "      <td>1</td>\n",
       "      <td>0</td>\n",
       "      <td>0</td>\n",
       "      <td>13</td>\n",
       "      <td>...</td>\n",
       "      <td>1</td>\n",
       "      <td>-22</td>\n",
       "      <td>46</td>\n",
       "      <td>-87</td>\n",
       "      <td>186</td>\n",
       "      <td>1</td>\n",
       "      <td>3</td>\n",
       "      <td>3</td>\n",
       "      <td>0</td>\n",
       "      <td>-34</td>\n",
       "    </tr>\n",
       "    <tr>\n",
       "      <th>13</th>\n",
       "      <td>1430323933</td>\n",
       "      <td>1</td>\n",
       "      <td>27</td>\n",
       "      <td>3</td>\n",
       "      <td>708</td>\n",
       "      <td>903</td>\n",
       "      <td>1</td>\n",
       "      <td>1</td>\n",
       "      <td>1</td>\n",
       "      <td>11</td>\n",
       "      <td>...</td>\n",
       "      <td>2</td>\n",
       "      <td>-49</td>\n",
       "      <td>30</td>\n",
       "      <td>-89</td>\n",
       "      <td>210</td>\n",
       "      <td>3</td>\n",
       "      <td>4</td>\n",
       "      <td>2</td>\n",
       "      <td>1</td>\n",
       "      <td>-26</td>\n",
       "    </tr>\n",
       "    <tr>\n",
       "      <th>16</th>\n",
       "      <td>1430331112</td>\n",
       "      <td>1</td>\n",
       "      <td>39</td>\n",
       "      <td>4</td>\n",
       "      <td>1259</td>\n",
       "      <td>661</td>\n",
       "      <td>4</td>\n",
       "      <td>0</td>\n",
       "      <td>0</td>\n",
       "      <td>9</td>\n",
       "      <td>...</td>\n",
       "      <td>0</td>\n",
       "      <td>36</td>\n",
       "      <td>180</td>\n",
       "      <td>-86</td>\n",
       "      <td>180</td>\n",
       "      <td>1</td>\n",
       "      <td>3</td>\n",
       "      <td>2</td>\n",
       "      <td>1</td>\n",
       "      <td>-33</td>\n",
       "    </tr>\n",
       "  </tbody>\n",
       "</table>\n",
       "<p>5 rows × 102 columns</p>\n",
       "</div>"
      ],
      "text/plain": [
       "          start_time  lobby_type  r1_hero  r1_level  r1_xp  r1_gold  r1_lh  \\\n",
       "match_id                                                                     \n",
       "6         1430287923           0       93         4   1103     1089      8   \n",
       "7         1430293357           1       20         2    556      570      1   \n",
       "10        1430301774           1      112         2    751      808      1   \n",
       "13        1430323933           1       27         3    708      903      1   \n",
       "16        1430331112           1       39         4   1259      661      4   \n",
       "\n",
       "          r1_kills  r1_deaths  r1_items          ...           \\\n",
       "match_id                                         ...            \n",
       "6                0          1         9          ...            \n",
       "7                0          0         9          ...            \n",
       "10               0          0        13          ...            \n",
       "13               1          1        11          ...            \n",
       "16               0          0         9          ...            \n",
       "\n",
       "          radiant_ward_sentry_count  radiant_first_ward_time  \\\n",
       "match_id                                                       \n",
       "6                                 0                       12   \n",
       "7                                 2                      -29   \n",
       "10                                1                      -22   \n",
       "13                                2                      -49   \n",
       "16                                0                       36   \n",
       "\n",
       "          dire_bottle_time  dire_courier_time  dire_flying_courier_time  \\\n",
       "match_id                                                                  \n",
       "6                      247                -86                       272   \n",
       "7                      168                -54                       NaN   \n",
       "10                      46                -87                       186   \n",
       "13                      30                -89                       210   \n",
       "16                     180                -86                       180   \n",
       "\n",
       "          dire_tpscroll_count  dire_boots_count  dire_ward_observer_count  \\\n",
       "match_id                                                                    \n",
       "6                           3                 4                         2   \n",
       "7                           3                 2                         2   \n",
       "10                          1                 3                         3   \n",
       "13                          3                 4                         2   \n",
       "16                          1                 3                         2   \n",
       "\n",
       "          dire_ward_sentry_count  dire_first_ward_time  \n",
       "match_id                                                \n",
       "6                              0                   118  \n",
       "7                              1                    16  \n",
       "10                             0                   -34  \n",
       "13                             1                   -26  \n",
       "16                             1                   -33  \n",
       "\n",
       "[5 rows x 102 columns]"
      ]
     },
     "execution_count": 72,
     "metadata": {},
     "output_type": "execute_result"
    }
   ],
   "source": [
    "test_df.head()"
   ]
  },
  {
   "cell_type": "code",
   "execution_count": 75,
   "metadata": {
    "collapsed": false
   },
   "outputs": [],
   "source": [
    "test_x = test_df.drop(categorial_cols, axis=1)\n",
    "test_x = test_x.fillna(0)\n",
    "test_x = StandardScaler().fit_transform(test_x)\n",
    "test_x = np.hstack([create_heros_bag(test_df, n_heros), test_x])"
   ]
  },
  {
   "cell_type": "code",
   "execution_count": 76,
   "metadata": {
    "collapsed": false
   },
   "outputs": [],
   "source": [
    "best_log_reg = LogisticRegression(penalty='l2', C=best_c)\n",
    "best_log_reg.fit(np.hstack([x_pick, x1]), y)\n",
    "pred_y = best_log_reg.predict_proba(test_x)"
   ]
  },
  {
   "cell_type": "code",
   "execution_count": 86,
   "metadata": {
    "collapsed": false
   },
   "outputs": [
    {
     "name": "stdout",
     "output_type": "stream",
     "text": [
      "max:  0.996464466384\n",
      "min:  0.00858454803556\n"
     ]
    }
   ],
   "source": [
    "print 'max: ', pred_y[:,1].max()\n",
    "print 'min: ', pred_y[:,1].min()"
   ]
  },
  {
   "cell_type": "markdown",
   "metadata": {},
   "source": [
    "<h1>Отчет: Часть 2</h1>\n",
    "<ol>\n",
    "    <li>Качество логистической регрессии: <strong>0.71627744348</strong><br>\n",
    "        Качество градиентного бустинга (30 деревьев): <strong>0.690022354698</strong><br>\n",
    "        <p>Логистическая регрессия дает лучший результат за счет того, что линейные модели работают лучше на разряженных выборках с большим количеством признаков. При этом логистическая регрессия превосходит градиентный бустинг по времени на кросс-валидации более чем в 10-15 раз! Это связано с тем, что в градиентном бустинге используется композиция из нескольких десятков деревьев. К тому же, в силу того, что количество признаков велико, деревья могут быть достаточно глубокими, что будет негативно сказываться на времени.</p>\n",
    "    </li><br>\n",
    "    <li>Качество после удаления категориальных призанков из выборки: <strong>0.716330742673</strong>\n",
    "        <p>После удаления категориальных признаков из выборки наблюдается незначительное увеличение качества. Это связано с тем, что значения категориальных признаков в данной выборке являются всего лишь идентификаторами героев игры. Математически эти велечины ничего не значат и сравнивать их по велечине нет смысла, поэтому они будут негативно влиять на качество.</p>\n",
    "    </li><br>\n",
    "    <li>Если взглянуть на максимальное значение, которое могут принимать категориальные признаки в данной выборке, то можно предположить, что в игре существует <strong>112</strong> различных героев. Однако, в данной выборке существует только <strong>108</strong> различных героев.<br>\n",
    "    </li><br>\n",
    "    <li>Качество при добавлении \"мешка слов\": <strong> 0.751847510561</strong>\n",
    "        <p>Качество заметно улучшилось за счет того, что мы избавились от категориальных признаков, которые были перекодированы в \"мешок слов\".<p>\n",
    "    </li>\n",
    "    <li>Максимальное значение прогноза: <strong>0.996464466384</strong><br>Минимальное значение прогноза: <strong>0.00858454803556</strong>\n",
    "    </li>\n",
    "</ol>\n",
    "____________________________________________________"
   ]
  },
  {
   "cell_type": "code",
   "execution_count": null,
   "metadata": {
    "collapsed": true
   },
   "outputs": [],
   "source": []
  }
 ],
 "metadata": {
  "kernelspec": {
   "display_name": "Python 2",
   "language": "python",
   "name": "python2"
  },
  "language_info": {
   "codemirror_mode": {
    "name": "ipython",
    "version": 2
   },
   "file_extension": ".py",
   "mimetype": "text/x-python",
   "name": "python",
   "nbconvert_exporter": "python",
   "pygments_lexer": "ipython2",
   "version": "2.7.6"
  }
 },
 "nbformat": 4,
 "nbformat_minor": 0
}
