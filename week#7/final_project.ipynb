{
 "cells": [
  {
   "cell_type": "code",
   "execution_count": 1,
   "metadata": {
    "collapsed": true
   },
   "outputs": [],
   "source": [
    "import time\n",
    "import datetime\n",
    "import pandas as pd\n",
    "import numpy as np\n",
    "from sklearn.cross_validation import KFold, cross_val_score\n",
    "from sklearn.grid_search import GridSearchCV\n",
    "from sklearn.ensemble import GradientBoostingClassifier\n",
    "from sklearn.metrics import roc_auc_score"
   ]
  },
  {
   "cell_type": "code",
   "execution_count": 2,
   "metadata": {
    "collapsed": false
   },
   "outputs": [],
   "source": [
    "df = pd.read_csv('features.csv', index_col='match_id')"
   ]
  },
  {
   "cell_type": "code",
   "execution_count": 3,
   "metadata": {
    "collapsed": false
   },
   "outputs": [
    {
     "data": {
      "text/html": [
       "<div>\n",
       "<table border=\"1\" class=\"dataframe\">\n",
       "  <thead>\n",
       "    <tr style=\"text-align: right;\">\n",
       "      <th></th>\n",
       "      <th>start_time</th>\n",
       "      <th>lobby_type</th>\n",
       "      <th>r1_hero</th>\n",
       "      <th>r1_level</th>\n",
       "      <th>r1_xp</th>\n",
       "      <th>r1_gold</th>\n",
       "      <th>r1_lh</th>\n",
       "      <th>r1_kills</th>\n",
       "      <th>r1_deaths</th>\n",
       "      <th>r1_items</th>\n",
       "      <th>...</th>\n",
       "      <th>dire_boots_count</th>\n",
       "      <th>dire_ward_observer_count</th>\n",
       "      <th>dire_ward_sentry_count</th>\n",
       "      <th>dire_first_ward_time</th>\n",
       "      <th>duration</th>\n",
       "      <th>radiant_win</th>\n",
       "      <th>tower_status_radiant</th>\n",
       "      <th>tower_status_dire</th>\n",
       "      <th>barracks_status_radiant</th>\n",
       "      <th>barracks_status_dire</th>\n",
       "    </tr>\n",
       "    <tr>\n",
       "      <th>match_id</th>\n",
       "      <th></th>\n",
       "      <th></th>\n",
       "      <th></th>\n",
       "      <th></th>\n",
       "      <th></th>\n",
       "      <th></th>\n",
       "      <th></th>\n",
       "      <th></th>\n",
       "      <th></th>\n",
       "      <th></th>\n",
       "      <th></th>\n",
       "      <th></th>\n",
       "      <th></th>\n",
       "      <th></th>\n",
       "      <th></th>\n",
       "      <th></th>\n",
       "      <th></th>\n",
       "      <th></th>\n",
       "      <th></th>\n",
       "      <th></th>\n",
       "      <th></th>\n",
       "    </tr>\n",
       "  </thead>\n",
       "  <tbody>\n",
       "    <tr>\n",
       "      <th>0</th>\n",
       "      <td>1430198770</td>\n",
       "      <td>7</td>\n",
       "      <td>11</td>\n",
       "      <td>5</td>\n",
       "      <td>2098</td>\n",
       "      <td>1489</td>\n",
       "      <td>20</td>\n",
       "      <td>0</td>\n",
       "      <td>0</td>\n",
       "      <td>7</td>\n",
       "      <td>...</td>\n",
       "      <td>4</td>\n",
       "      <td>2</td>\n",
       "      <td>2</td>\n",
       "      <td>-52</td>\n",
       "      <td>2874</td>\n",
       "      <td>1</td>\n",
       "      <td>1796</td>\n",
       "      <td>0</td>\n",
       "      <td>51</td>\n",
       "      <td>0</td>\n",
       "    </tr>\n",
       "    <tr>\n",
       "      <th>1</th>\n",
       "      <td>1430220345</td>\n",
       "      <td>0</td>\n",
       "      <td>42</td>\n",
       "      <td>4</td>\n",
       "      <td>1188</td>\n",
       "      <td>1033</td>\n",
       "      <td>9</td>\n",
       "      <td>0</td>\n",
       "      <td>1</td>\n",
       "      <td>12</td>\n",
       "      <td>...</td>\n",
       "      <td>4</td>\n",
       "      <td>3</td>\n",
       "      <td>1</td>\n",
       "      <td>-5</td>\n",
       "      <td>2463</td>\n",
       "      <td>1</td>\n",
       "      <td>1974</td>\n",
       "      <td>0</td>\n",
       "      <td>63</td>\n",
       "      <td>1</td>\n",
       "    </tr>\n",
       "    <tr>\n",
       "      <th>2</th>\n",
       "      <td>1430227081</td>\n",
       "      <td>7</td>\n",
       "      <td>33</td>\n",
       "      <td>4</td>\n",
       "      <td>1319</td>\n",
       "      <td>1270</td>\n",
       "      <td>22</td>\n",
       "      <td>0</td>\n",
       "      <td>0</td>\n",
       "      <td>12</td>\n",
       "      <td>...</td>\n",
       "      <td>4</td>\n",
       "      <td>3</td>\n",
       "      <td>1</td>\n",
       "      <td>13</td>\n",
       "      <td>2130</td>\n",
       "      <td>0</td>\n",
       "      <td>0</td>\n",
       "      <td>1830</td>\n",
       "      <td>0</td>\n",
       "      <td>63</td>\n",
       "    </tr>\n",
       "    <tr>\n",
       "      <th>3</th>\n",
       "      <td>1430263531</td>\n",
       "      <td>1</td>\n",
       "      <td>29</td>\n",
       "      <td>4</td>\n",
       "      <td>1779</td>\n",
       "      <td>1056</td>\n",
       "      <td>14</td>\n",
       "      <td>0</td>\n",
       "      <td>0</td>\n",
       "      <td>5</td>\n",
       "      <td>...</td>\n",
       "      <td>4</td>\n",
       "      <td>2</td>\n",
       "      <td>0</td>\n",
       "      <td>27</td>\n",
       "      <td>1459</td>\n",
       "      <td>0</td>\n",
       "      <td>1920</td>\n",
       "      <td>2047</td>\n",
       "      <td>50</td>\n",
       "      <td>63</td>\n",
       "    </tr>\n",
       "    <tr>\n",
       "      <th>4</th>\n",
       "      <td>1430282290</td>\n",
       "      <td>7</td>\n",
       "      <td>13</td>\n",
       "      <td>4</td>\n",
       "      <td>1431</td>\n",
       "      <td>1090</td>\n",
       "      <td>8</td>\n",
       "      <td>1</td>\n",
       "      <td>0</td>\n",
       "      <td>8</td>\n",
       "      <td>...</td>\n",
       "      <td>3</td>\n",
       "      <td>3</td>\n",
       "      <td>0</td>\n",
       "      <td>-16</td>\n",
       "      <td>2449</td>\n",
       "      <td>0</td>\n",
       "      <td>4</td>\n",
       "      <td>1974</td>\n",
       "      <td>3</td>\n",
       "      <td>63</td>\n",
       "    </tr>\n",
       "  </tbody>\n",
       "</table>\n",
       "<p>5 rows × 108 columns</p>\n",
       "</div>"
      ],
      "text/plain": [
       "          start_time  lobby_type  r1_hero  r1_level  r1_xp  r1_gold  r1_lh  \\\n",
       "match_id                                                                     \n",
       "0         1430198770           7       11         5   2098     1489     20   \n",
       "1         1430220345           0       42         4   1188     1033      9   \n",
       "2         1430227081           7       33         4   1319     1270     22   \n",
       "3         1430263531           1       29         4   1779     1056     14   \n",
       "4         1430282290           7       13         4   1431     1090      8   \n",
       "\n",
       "          r1_kills  r1_deaths  r1_items          ...           \\\n",
       "match_id                                         ...            \n",
       "0                0          0         7          ...            \n",
       "1                0          1        12          ...            \n",
       "2                0          0        12          ...            \n",
       "3                0          0         5          ...            \n",
       "4                1          0         8          ...            \n",
       "\n",
       "          dire_boots_count  dire_ward_observer_count  dire_ward_sentry_count  \\\n",
       "match_id                                                                       \n",
       "0                        4                         2                       2   \n",
       "1                        4                         3                       1   \n",
       "2                        4                         3                       1   \n",
       "3                        4                         2                       0   \n",
       "4                        3                         3                       0   \n",
       "\n",
       "          dire_first_ward_time  duration  radiant_win  tower_status_radiant  \\\n",
       "match_id                                                                      \n",
       "0                          -52      2874            1                  1796   \n",
       "1                           -5      2463            1                  1974   \n",
       "2                           13      2130            0                     0   \n",
       "3                           27      1459            0                  1920   \n",
       "4                          -16      2449            0                     4   \n",
       "\n",
       "          tower_status_dire  barracks_status_radiant  barracks_status_dire  \n",
       "match_id                                                                    \n",
       "0                         0                       51                     0  \n",
       "1                         0                       63                     1  \n",
       "2                      1830                        0                    63  \n",
       "3                      2047                       50                    63  \n",
       "4                      1974                        3                    63  \n",
       "\n",
       "[5 rows x 108 columns]"
      ]
     },
     "execution_count": 3,
     "metadata": {},
     "output_type": "execute_result"
    }
   ],
   "source": [
    "df.head()"
   ]
  },
  {
   "cell_type": "code",
   "execution_count": 4,
   "metadata": {
    "collapsed": false
   },
   "outputs": [
    {
     "data": {
      "text/plain": [
       "<matplotlib.axes.AxesSubplot at 0x7fab7048e390>"
      ]
     },
     "execution_count": 4,
     "metadata": {},
     "output_type": "execute_result"
    },
    {
     "data": {
      "image/png": "[encoded data removed]",
      "text/plain": [
       "<matplotlib.figure.Figure at 0x7fab70479d90>"
      ]
     },
     "metadata": {},
     "output_type": "display_data"
    }
   ],
   "source": [
    "%matplotlib inline\n",
    "df.radiant_win.hist()"
   ]
  },
  {
   "cell_type": "code",
   "execution_count": 5,
   "metadata": {
    "collapsed": false
   },
   "outputs": [],
   "source": [
    "x_df = df.drop(\n",
    "    ['duration', 'radiant_win', 'tower_status_radiant',\n",
    "     'tower_status_dire', 'barracks_status_radiant', \n",
    "     'barracks_status_dire'], axis=1\n",
    ")"
   ]
  },
  {
   "cell_type": "code",
   "execution_count": 6,
   "metadata": {
    "collapsed": false
   },
   "outputs": [
    {
     "data": {
      "text/plain": [
       "start_time                     97230\n",
       "lobby_type                     97230\n",
       "r1_hero                        97230\n",
       "r1_level                       97230\n",
       "r1_xp                          97230\n",
       "r1_gold                        97230\n",
       "r1_lh                          97230\n",
       "r1_kills                       97230\n",
       "r1_deaths                      97230\n",
       "r1_items                       97230\n",
       "r2_hero                        97230\n",
       "r2_level                       97230\n",
       "r2_xp                          97230\n",
       "r2_gold                        97230\n",
       "r2_lh                          97230\n",
       "r2_kills                       97230\n",
       "r2_deaths                      97230\n",
       "r2_items                       97230\n",
       "r3_hero                        97230\n",
       "r3_level                       97230\n",
       "r3_xp                          97230\n",
       "r3_gold                        97230\n",
       "r3_lh                          97230\n",
       "r3_kills                       97230\n",
       "r3_deaths                      97230\n",
       "r3_items                       97230\n",
       "r4_hero                        97230\n",
       "r4_level                       97230\n",
       "r4_xp                          97230\n",
       "r4_gold                        97230\n",
       "                               ...  \n",
       "d4_deaths                      97230\n",
       "d4_items                       97230\n",
       "d5_hero                        97230\n",
       "d5_level                       97230\n",
       "d5_xp                          97230\n",
       "d5_gold                        97230\n",
       "d5_lh                          97230\n",
       "d5_kills                       97230\n",
       "d5_deaths                      97230\n",
       "d5_items                       97230\n",
       "first_blood_time               77677\n",
       "first_blood_team               77677\n",
       "first_blood_player1            77677\n",
       "first_blood_player2            53243\n",
       "radiant_bottle_time            81539\n",
       "radiant_courier_time           96538\n",
       "radiant_flying_courier_time    69751\n",
       "radiant_tpscroll_count         97230\n",
       "radiant_boots_count            97230\n",
       "radiant_ward_observer_count    97230\n",
       "radiant_ward_sentry_count      97230\n",
       "radiant_first_ward_time        95394\n",
       "dire_bottle_time               81087\n",
       "dire_courier_time              96554\n",
       "dire_flying_courier_time       71132\n",
       "dire_tpscroll_count            97230\n",
       "dire_boots_count               97230\n",
       "dire_ward_observer_count       97230\n",
       "dire_ward_sentry_count         97230\n",
       "dire_first_ward_time           95404\n",
       "dtype: int64"
      ]
     },
     "execution_count": 6,
     "metadata": {},
     "output_type": "execute_result"
    }
   ],
   "source": [
    "x_df.count()"
   ]
  },
  {
   "cell_type": "code",
   "execution_count": 7,
   "metadata": {
    "collapsed": true
   },
   "outputs": [],
   "source": [
    "full_filled_df = x_df.dropna(axis=1)"
   ]
  },
  {
   "cell_type": "code",
   "execution_count": 8,
   "metadata": {
    "collapsed": false
   },
   "outputs": [
    {
     "name": "stdout",
     "output_type": "stream",
     "text": [
      "(97230, 90) (97230, 102)\n"
     ]
    }
   ],
   "source": [
    "print full_filled_df.shape, x_df.shape"
   ]
  },
  {
   "cell_type": "code",
   "execution_count": 9,
   "metadata": {
    "collapsed": false
   },
   "outputs": [
    {
     "name": "stdout",
     "output_type": "stream",
     "text": [
      "first_blood_time\n",
      "first_blood_team\n",
      "first_blood_player1\n",
      "first_blood_player2\n",
      "radiant_bottle_time\n",
      "radiant_courier_time\n",
      "radiant_flying_courier_time\n",
      "radiant_first_ward_time\n",
      "dire_bottle_time\n",
      "dire_courier_time\n",
      "dire_flying_courier_time\n",
      "dire_first_ward_time\n"
     ]
    }
   ],
   "source": [
    "for item in x_df.drop(full_filled_df.columns, axis=1).columns:\n",
    "    print item"
   ]
  },
  {
   "cell_type": "code",
   "execution_count": 10,
   "metadata": {
    "collapsed": false
   },
   "outputs": [],
   "source": [
    "x = x_df.fillna(0)"
   ]
  },
  {
   "cell_type": "code",
   "execution_count": 11,
   "metadata": {
    "collapsed": false
   },
   "outputs": [],
   "source": [
    "y = df.radiant_win"
   ]
  },
  {
   "cell_type": "code",
   "execution_count": 12,
   "metadata": {
    "collapsed": false
   },
   "outputs": [],
   "source": [
    "cv = KFold(y.size, n_folds=5, shuffle=True)"
   ]
  },
  {
   "cell_type": "code",
   "execution_count": 13,
   "metadata": {
    "collapsed": false
   },
   "outputs": [],
   "source": [
    "n_estimators = np.arange(10, 45, 5)"
   ]
  },
  {
   "cell_type": "code",
   "execution_count": 14,
   "metadata": {
    "collapsed": false
   },
   "outputs": [
    {
     "name": "stdout",
     "output_type": "stream",
     "text": [
      "Number of estimators:  10\n",
      "Time elapsed:  0:00:43.940846\n",
      "All scores:  [ 0.67197828  0.67228042  0.65585988  0.6602592   0.66696992]\n",
      "Mean scores:  0.665469540535\n",
      "**************************************************\n",
      "Number of estimators:  15\n",
      "Time elapsed:  0:01:06.759562\n",
      "All scores:  [ 0.68410709  0.67985253  0.6675193   0.67156577  0.67795909]\n",
      "Mean scores:  0.676200754447\n",
      "**************************************************\n",
      "Number of estimators:  20\n",
      "Time elapsed:  0:01:28.757749\n",
      "All scores:  [ 0.689428    0.6852541   0.67478339  0.6792457   0.68442792]\n",
      "Mean scores:  0.682627821888\n",
      "**************************************************\n",
      "Number of estimators:  25\n",
      "Time elapsed:  0:01:51.371063\n",
      "All scores:  [ 0.69373428  0.68858107  0.67877893  0.68405291  0.68841174]\n",
      "Mean scores:  0.686711784716\n",
      "**************************************************\n",
      "Number of estimators:  30\n",
      "Time elapsed:  0:02:13.189823\n",
      "All scores:  [ 0.69817102  0.69068864  0.68268548  0.68752422  0.69104241]\n",
      "Mean scores:  0.690022354698\n",
      "**************************************************\n",
      "Number of estimators:  35\n",
      "Time elapsed:  0:02:40.225063\n",
      "All scores:  [ 0.70077713  0.69282373  0.68508201  0.6907767   0.69302521]\n",
      "Mean scores:  0.69249695614\n",
      "**************************************************\n",
      "Number of estimators:  40\n",
      "Time elapsed:  0:02:58.412784\n",
      "All scores:  [ 0.70257872  0.69474062  0.68664503  0.69326183  0.69532923]\n",
      "Mean scores:  0.694511087512\n",
      "**************************************************\n"
     ]
    }
   ],
   "source": [
    "for n in n_estimators:\n",
    "    print 'Number of estimators: ', n\n",
    "    clf = GradientBoostingClassifier(n_estimators=n)\n",
    "    start_time = datetime.datetime.now()\n",
    "    scores = cross_val_score(clf, x.values, y, cv=cv, scoring='roc_auc')\n",
    "    print 'Time elapsed: ', datetime.datetime.now() - start_time\n",
    "    print 'All scores: ', scores\n",
    "    print 'Mean scores: ', scores.mean()\n",
    "    print '*' * 50"
   ]
  },
  {
   "cell_type": "markdown",
   "metadata": {},
   "source": [
    "<h1>Отчет: Часть 1</h1>\n",
    "<ol>\n",
    "    <li><strong>Список столбцов с пропусками:</strong><br>\n",
    "        first_blood_time<br>\n",
    "        first_blood_team<br>\n",
    "        first_blood_player1<br>\n",
    "        first_blood_player2<br>\n",
    "        radiant_bottle_time<br>\n",
    "        radiant_courier_time<br>\n",
    "        radiant_flying_courier_time<br>\n",
    "        radiant_first_ward_time<br>\n",
    "        dire_bottle_time<br>\n",
    "        dire_courier_time<br>\n",
    "        dire_flying_courier_time<br>\n",
    "        dire_first_ward_time<br>\n",
    "        <p>Причина пропусков в данных столбцах очень проста: некоторые события попросту могут не наступить в первые 5 минут игры. Например, пропуски в столбцах <strong>first_blood_time, first_blood_team, first_blood_player1, first_blood_player2</strong> могут быть из-за того, что игроки не вступали в бой в первые 5 минут. Столбец <strong>radiant_bottle_time (dire_bottle_time)</strong> может содержать пропуски по схожей причине - игрок мог не приобрести предмет \"bottle\" за первые 5 минут.</p>\n",
    "    </li><br>\n",
    "    <li>Имя столбца, содержащего целевую переменную:<strong> radiant_win</strong></li><br>\n",
    "    <li>Кросс-валидация для градиентного бустинга с 30 деревьями была пройдена за: <strong>2 минуты 13 секунд</strong><br>\n",
    "    Среднее занчение качества по метрике AUC-ROC для 30 деревьев: <strong>0.690022354698</strong></li><br>\n",
    "    <li><p>Как видно из таблицы выше, при увеличении числа деревьев после 30 с шагом 5, качество все еще растет, но очень слабо, с точность в тысячных долях. Также стоит отметить, что при увелечении числа деревьев на 10 (с 30 до 40) время прохождения кросс-валидации увеличилось почти на минуту, из чего можно сделать вывод, что дальнейшее увеличение количества деревьев скорее потеря, чем выгода. Можно попытаться ускорить процесс обучения путем уменьшения глубины деревьев или понижением размерности выборки.<p></li>\n",
    "</ol>\n",
    "____________________________________________________________________________________________"
   ]
  },
  {
   "cell_type": "code",
   "execution_count": null,
   "metadata": {
    "collapsed": true
   },
   "outputs": [],
   "source": []
  },
  {
   "cell_type": "code",
   "execution_count": null,
   "metadata": {
    "collapsed": false,
    "scrolled": false
   },
   "outputs": [],
   "source": []
  },
  {
   "cell_type": "code",
   "execution_count": null,
   "metadata": {
    "collapsed": false
   },
   "outputs": [],
   "source": []
  },
  {
   "cell_type": "code",
   "execution_count": null,
   "metadata": {
    "collapsed": true
   },
   "outputs": [],
   "source": []
  },
  {
   "cell_type": "code",
   "execution_count": null,
   "metadata": {
    "collapsed": false
   },
   "outputs": [],
   "source": []
  },
  {
   "cell_type": "code",
   "execution_count": null,
   "metadata": {
    "collapsed": true
   },
   "outputs": [],
   "source": []
  }
 ],
 "metadata": {
  "kernelspec": {
   "display_name": "Python 2",
   "language": "python",
   "name": "python2"
  },
  "language_info": {
   "codemirror_mode": {
    "name": "ipython",
    "version": 2
   },
   "file_extension": ".py",
   "mimetype": "text/x-python",
   "name": "python",
   "nbconvert_exporter": "python",
   "pygments_lexer": "ipython2",
   "version": "2.7.6"
  }
 },
 "nbformat": 4,
 "nbformat_minor": 0
}
