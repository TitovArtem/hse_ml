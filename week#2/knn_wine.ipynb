{
 "cells": [
  {
   "cell_type": "code",
   "execution_count": 54,
   "metadata": {
    "collapsed": true
   },
   "outputs": [],
   "source": [
    "import pandas as pd\n",
    "import numpy as np"
   ]
  },
  {
   "cell_type": "code",
   "execution_count": 11,
   "metadata": {
    "collapsed": true
   },
   "outputs": [],
   "source": [
    "names = [\n",
    "    'class', 'alcohol', 'malic_acid', 'ash', 'ash_alc', 'mg', \n",
    "    'phenol', 'flav', 'nonflv_phenol', 'proanth', 'color_int', \n",
    "    'hue', 'OD', 'proline'\n",
    "]\n",
    "df = pd.read_csv('wine.data', names=names)"
   ]
  },
  {
   "cell_type": "code",
   "execution_count": 12,
   "metadata": {
    "collapsed": false
   },
   "outputs": [
    {
     "data": {
      "text/html": [
       "<div>\n",
       "<table border=\"1\" class=\"dataframe\">\n",
       "  <thead>\n",
       "    <tr style=\"text-align: right;\">\n",
       "      <th></th>\n",
       "      <th>class</th>\n",
       "      <th>alcohol</th>\n",
       "      <th>malic_acid</th>\n",
       "      <th>ash</th>\n",
       "      <th>ash_alc</th>\n",
       "      <th>mg</th>\n",
       "      <th>phenol</th>\n",
       "      <th>flav</th>\n",
       "      <th>nonflv_phenol</th>\n",
       "      <th>proanth</th>\n",
       "      <th>color_int</th>\n",
       "      <th>hue</th>\n",
       "      <th>OD</th>\n",
       "      <th>proline</th>\n",
       "    </tr>\n",
       "  </thead>\n",
       "  <tbody>\n",
       "    <tr>\n",
       "      <th>0</th>\n",
       "      <td>1</td>\n",
       "      <td>14.23</td>\n",
       "      <td>1.71</td>\n",
       "      <td>2.43</td>\n",
       "      <td>15.6</td>\n",
       "      <td>127</td>\n",
       "      <td>2.80</td>\n",
       "      <td>3.06</td>\n",
       "      <td>0.28</td>\n",
       "      <td>2.29</td>\n",
       "      <td>5.64</td>\n",
       "      <td>1.04</td>\n",
       "      <td>3.92</td>\n",
       "      <td>1065</td>\n",
       "    </tr>\n",
       "    <tr>\n",
       "      <th>1</th>\n",
       "      <td>1</td>\n",
       "      <td>13.20</td>\n",
       "      <td>1.78</td>\n",
       "      <td>2.14</td>\n",
       "      <td>11.2</td>\n",
       "      <td>100</td>\n",
       "      <td>2.65</td>\n",
       "      <td>2.76</td>\n",
       "      <td>0.26</td>\n",
       "      <td>1.28</td>\n",
       "      <td>4.38</td>\n",
       "      <td>1.05</td>\n",
       "      <td>3.40</td>\n",
       "      <td>1050</td>\n",
       "    </tr>\n",
       "    <tr>\n",
       "      <th>2</th>\n",
       "      <td>1</td>\n",
       "      <td>13.16</td>\n",
       "      <td>2.36</td>\n",
       "      <td>2.67</td>\n",
       "      <td>18.6</td>\n",
       "      <td>101</td>\n",
       "      <td>2.80</td>\n",
       "      <td>3.24</td>\n",
       "      <td>0.30</td>\n",
       "      <td>2.81</td>\n",
       "      <td>5.68</td>\n",
       "      <td>1.03</td>\n",
       "      <td>3.17</td>\n",
       "      <td>1185</td>\n",
       "    </tr>\n",
       "    <tr>\n",
       "      <th>3</th>\n",
       "      <td>1</td>\n",
       "      <td>14.37</td>\n",
       "      <td>1.95</td>\n",
       "      <td>2.50</td>\n",
       "      <td>16.8</td>\n",
       "      <td>113</td>\n",
       "      <td>3.85</td>\n",
       "      <td>3.49</td>\n",
       "      <td>0.24</td>\n",
       "      <td>2.18</td>\n",
       "      <td>7.80</td>\n",
       "      <td>0.86</td>\n",
       "      <td>3.45</td>\n",
       "      <td>1480</td>\n",
       "    </tr>\n",
       "    <tr>\n",
       "      <th>4</th>\n",
       "      <td>1</td>\n",
       "      <td>13.24</td>\n",
       "      <td>2.59</td>\n",
       "      <td>2.87</td>\n",
       "      <td>21.0</td>\n",
       "      <td>118</td>\n",
       "      <td>2.80</td>\n",
       "      <td>2.69</td>\n",
       "      <td>0.39</td>\n",
       "      <td>1.82</td>\n",
       "      <td>4.32</td>\n",
       "      <td>1.04</td>\n",
       "      <td>2.93</td>\n",
       "      <td>735</td>\n",
       "    </tr>\n",
       "  </tbody>\n",
       "</table>\n",
       "</div>"
      ],
      "text/plain": [
       "   class  alcohol  malic_acid   ash  ash_alc   mg  phenol  flav  \\\n",
       "0      1    14.23        1.71  2.43     15.6  127    2.80  3.06   \n",
       "1      1    13.20        1.78  2.14     11.2  100    2.65  2.76   \n",
       "2      1    13.16        2.36  2.67     18.6  101    2.80  3.24   \n",
       "3      1    14.37        1.95  2.50     16.8  113    3.85  3.49   \n",
       "4      1    13.24        2.59  2.87     21.0  118    2.80  2.69   \n",
       "\n",
       "   nonflv_phenol  proanth  color_int   hue    OD  proline  \n",
       "0           0.28     2.29       5.64  1.04  3.92     1065  \n",
       "1           0.26     1.28       4.38  1.05  3.40     1050  \n",
       "2           0.30     2.81       5.68  1.03  3.17     1185  \n",
       "3           0.24     2.18       7.80  0.86  3.45     1480  \n",
       "4           0.39     1.82       4.32  1.04  2.93      735  "
      ]
     },
     "execution_count": 12,
     "metadata": {},
     "output_type": "execute_result"
    }
   ],
   "source": [
    "df.head()"
   ]
  },
  {
   "cell_type": "code",
   "execution_count": 13,
   "metadata": {
    "collapsed": false
   },
   "outputs": [
    {
     "name": "stdout",
     "output_type": "stream",
     "text": [
      "<class 'pandas.core.frame.DataFrame'>\n",
      "Int64Index: 178 entries, 0 to 177\n",
      "Data columns (total 14 columns):\n",
      "class            178 non-null int64\n",
      "alcohol          178 non-null float64\n",
      "malic_acid       178 non-null float64\n",
      "ash              178 non-null float64\n",
      "ash_alc          178 non-null float64\n",
      "mg               178 non-null int64\n",
      "phenol           178 non-null float64\n",
      "flav             178 non-null float64\n",
      "nonflv_phenol    178 non-null float64\n",
      "proanth          178 non-null float64\n",
      "color_int        178 non-null float64\n",
      "hue              178 non-null float64\n",
      "OD               178 non-null float64\n",
      "proline          178 non-null int64\n",
      "dtypes: float64(11), int64(3)\n",
      "memory usage: 20.9 KB\n"
     ]
    }
   ],
   "source": [
    "df.info()"
   ]
  },
  {
   "cell_type": "code",
   "execution_count": 56,
   "metadata": {
    "collapsed": false
   },
   "outputs": [],
   "source": [
    "y = df.drop(names[1:], axis=1)\n",
    "y = np.ravel(y)"
   ]
  },
  {
   "cell_type": "code",
   "execution_count": 16,
   "metadata": {
    "collapsed": false
   },
   "outputs": [],
   "source": [
    "x = df.drop('class', axis=1)"
   ]
  },
  {
   "cell_type": "code",
   "execution_count": 72,
   "metadata": {
    "collapsed": false
   },
   "outputs": [],
   "source": [
    "from sklearn.neighbors import KNeighborsClassifier\n",
    "from sklearn.cross_validation import KFold, cross_val_score\n",
    "from sklearn.preprocessing import scale"
   ]
  },
  {
   "cell_type": "code",
   "execution_count": 33,
   "metadata": {
    "collapsed": false
   },
   "outputs": [],
   "source": [
    "kf = KFold(x.shape[0], n_folds=5, shuffle=True, random_state=42)"
   ]
  },
  {
   "cell_type": "code",
   "execution_count": 34,
   "metadata": {
    "collapsed": false
   },
   "outputs": [],
   "source": [
    "knn = KNeighborsClassifier(n_neighbors=10)"
   ]
  },
  {
   "cell_type": "code",
   "execution_count": 48,
   "metadata": {
    "collapsed": false
   },
   "outputs": [],
   "source": [
    "scores = cross_val_score(knn, x, np.ravel(y), cv=kf)"
   ]
  },
  {
   "cell_type": "code",
   "execution_count": 50,
   "metadata": {
    "collapsed": false
   },
   "outputs": [
    {
     "data": {
      "text/plain": [
       "0.68015873015873018"
      ]
     },
     "execution_count": 50,
     "metadata": {},
     "output_type": "execute_result"
    }
   ],
   "source": [
    "scores.mean()"
   ]
  },
  {
   "cell_type": "code",
   "execution_count": 59,
   "metadata": {
    "collapsed": false
   },
   "outputs": [],
   "source": [
    "def cross_validation(x, y, cv, up_n, to_n):\n",
    "    results = {}\n",
    "    for n in range(up_n, to_n, 1):\n",
    "        knn = KNeighborsClassifier(n_neighbors=n)\n",
    "        results[n] = cross_val_score(knn, x, y, cv=cv).mean()\n",
    "    return results"
   ]
  },
  {
   "cell_type": "code",
   "execution_count": 66,
   "metadata": {
    "collapsed": true
   },
   "outputs": [],
   "source": [
    "res = cross_validation(x, y, kf, 1, 51)"
   ]
  },
  {
   "cell_type": "code",
   "execution_count": 67,
   "metadata": {
    "collapsed": false
   },
   "outputs": [
    {
     "data": {
      "text/plain": [
       "{1: 0.7304761904761905,\n",
       " 2: 0.66253968253968254,\n",
       " 3: 0.70825396825396825,\n",
       " 4: 0.65777777777777779,\n",
       " 5: 0.67460317460317465,\n",
       " 6: 0.67428571428571438,\n",
       " 7: 0.68000000000000005,\n",
       " 8: 0.67999999999999994,\n",
       " 9: 0.70238095238095233,\n",
       " 10: 0.68015873015873018,\n",
       " 11: 0.70253968253968258,\n",
       " 12: 0.69666666666666666,\n",
       " 13: 0.69095238095238087,\n",
       " 14: 0.67936507936507939,\n",
       " 15: 0.70190476190476203,\n",
       " 16: 0.67952380952380964,\n",
       " 17: 0.70158730158730154,\n",
       " 18: 0.67952380952380953,\n",
       " 19: 0.67936507936507928,\n",
       " 20: 0.69095238095238087,\n",
       " 21: 0.70190476190476192,\n",
       " 22: 0.69650793650793641,\n",
       " 23: 0.70206349206349206,\n",
       " 24: 0.70761904761904759,\n",
       " 25: 0.70190476190476192,\n",
       " 26: 0.69650793650793652,\n",
       " 27: 0.69634920634920638,\n",
       " 28: 0.70793650793650786,\n",
       " 29: 0.7134920634920634,\n",
       " 30: 0.70793650793650786,\n",
       " 31: 0.69095238095238098,\n",
       " 32: 0.7134920634920634,\n",
       " 33: 0.7134920634920634,\n",
       " 34: 0.72460317460317469,\n",
       " 35: 0.72460317460317469,\n",
       " 36: 0.71349206349206362,\n",
       " 37: 0.7134920634920634,\n",
       " 38: 0.7134920634920634,\n",
       " 39: 0.70793650793650786,\n",
       " 40: 0.70777777777777773,\n",
       " 41: 0.7134920634920634,\n",
       " 42: 0.70777777777777773,\n",
       " 43: 0.70777777777777773,\n",
       " 44: 0.70777777777777773,\n",
       " 45: 0.70777777777777773,\n",
       " 46: 0.70777777777777773,\n",
       " 47: 0.69666666666666666,\n",
       " 48: 0.71904761904761916,\n",
       " 49: 0.69666666666666666,\n",
       " 50: 0.70777777777777773}"
      ]
     },
     "execution_count": 67,
     "metadata": {},
     "output_type": "execute_result"
    }
   ],
   "source": [
    "res"
   ]
  },
  {
   "cell_type": "code",
   "execution_count": 70,
   "metadata": {
    "collapsed": false
   },
   "outputs": [],
   "source": [
    "max_val = max(res.values())"
   ]
  },
  {
   "cell_type": "code",
   "execution_count": 75,
   "metadata": {
    "collapsed": false
   },
   "outputs": [],
   "source": [
    "scaled_x = scale(x)"
   ]
  },
  {
   "cell_type": "code",
   "execution_count": 79,
   "metadata": {
    "collapsed": false
   },
   "outputs": [],
   "source": [
    "scaled_res = cross_validation(scaled_x, y, kf, 1, 51)"
   ]
  },
  {
   "cell_type": "code",
   "execution_count": 80,
   "metadata": {
    "collapsed": false
   },
   "outputs": [
    {
     "data": {
      "text/plain": [
       "{1: 0.94396825396825401,\n",
       " 2: 0.93285714285714294,\n",
       " 3: 0.95507936507936508,\n",
       " 4: 0.93825396825396834,\n",
       " 5: 0.94936507936507941,\n",
       " 6: 0.94952380952380955,\n",
       " 7: 0.94952380952380955,\n",
       " 8: 0.95523809523809522,\n",
       " 9: 0.96079365079365076,\n",
       " 10: 0.96079365079365076,\n",
       " 11: 0.96095238095238089,\n",
       " 12: 0.95523809523809522,\n",
       " 13: 0.94952380952380933,\n",
       " 14: 0.96634920634920629,\n",
       " 15: 0.97206349206349218,\n",
       " 16: 0.97206349206349218,\n",
       " 17: 0.96650793650793643,\n",
       " 18: 0.96650793650793643,\n",
       " 19: 0.95539682539682536,\n",
       " 20: 0.96650793650793643,\n",
       " 21: 0.96095238095238111,\n",
       " 22: 0.96650793650793643,\n",
       " 23: 0.96095238095238089,\n",
       " 24: 0.95523809523809522,\n",
       " 25: 0.95523809523809522,\n",
       " 26: 0.96079365079365076,\n",
       " 27: 0.95523809523809522,\n",
       " 28: 0.96634920634920629,\n",
       " 29: 0.9776190476190475,\n",
       " 30: 0.96079365079365076,\n",
       " 31: 0.95523809523809522,\n",
       " 32: 0.96079365079365076,\n",
       " 33: 0.96634920634920629,\n",
       " 34: 0.96634920634920629,\n",
       " 35: 0.96079365079365076,\n",
       " 36: 0.96079365079365076,\n",
       " 37: 0.95523809523809522,\n",
       " 38: 0.96079365079365076,\n",
       " 39: 0.96079365079365076,\n",
       " 40: 0.96079365079365076,\n",
       " 41: 0.96634920634920629,\n",
       " 42: 0.96079365079365076,\n",
       " 43: 0.96634920634920629,\n",
       " 44: 0.96063492063492062,\n",
       " 45: 0.96634920634920629,\n",
       " 46: 0.94952380952380955,\n",
       " 47: 0.95507936507936508,\n",
       " 48: 0.94952380952380955,\n",
       " 49: 0.95507936507936508,\n",
       " 50: 0.96063492063492062}"
      ]
     },
     "execution_count": 80,
     "metadata": {},
     "output_type": "execute_result"
    }
   ],
   "source": [
    "scaled_res"
   ]
  },
  {
   "cell_type": "code",
   "execution_count": 81,
   "metadata": {
    "collapsed": false
   },
   "outputs": [
    {
     "data": {
      "text/plain": [
       "0.9776190476190475"
      ]
     },
     "execution_count": 81,
     "metadata": {},
     "output_type": "execute_result"
    }
   ],
   "source": [
    "max(scaled_res.values())"
   ]
  },
  {
   "cell_type": "code",
   "execution_count": null,
   "metadata": {
    "collapsed": true
   },
   "outputs": [],
   "source": []
  }
 ],
 "metadata": {
  "kernelspec": {
   "display_name": "Python 2",
   "language": "python",
   "name": "python2"
  },
  "language_info": {
   "codemirror_mode": {
    "name": "ipython",
    "version": 2
   },
   "file_extension": ".py",
   "mimetype": "text/x-python",
   "name": "python",
   "nbconvert_exporter": "python",
   "pygments_lexer": "ipython2",
   "version": "2.7.6"
  }
 },
 "nbformat": 4,
 "nbformat_minor": 0
}
